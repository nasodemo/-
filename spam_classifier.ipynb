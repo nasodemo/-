{
 "cells": [
  {
   "cell_type": "code",
   "execution_count": 1,
   "metadata": {},
   "outputs": [],
   "source": [
    "import os\n",
    "\n",
    "root = r'Your root directory path' #폴더 위치\n",
    "\n",
    "folder_dirs = [] #데이터 폴더명들이 저장된 리스트\n",
    "email = [] #이메일이 저장된 리스트\n",
    "for path, dirs, files in os.walk(root):\n",
    "    for dir in dirs:\n",
    "        folder_dirs.append(dir) #폴더명 저장\n",
    "\n",
    "email = []\n",
    "i = 0\n",
    "for folder in folder_dirs:\n",
    "    file_list = os.listdir(root + '/' + folder)\n",
    "    email.append([])\n",
    "    for file in file_list:\n",
    "        with open(root + '/' + folder + '/' + file) as f:\n",
    "            try:\n",
    "                email[i].append(f.read()) #이메일 저장\n",
    "            except:\n",
    "                pass\n",
    "    i += 1"
   ]
  }
 ],
 "metadata": {
  "kernelspec": {
   "display_name": "Python 3.10.4 ('venv')",
   "language": "python",
   "name": "python3"
  },
  "language_info": {
   "codemirror_mode": {
    "name": "ipython",
    "version": 3
   },
   "file_extension": ".py",
   "mimetype": "text/x-python",
   "name": "python",
   "nbconvert_exporter": "python",
   "pygments_lexer": "ipython3",
   "version": "3.10.4"
  },
  "orig_nbformat": 4,
  "vscode": {
   "interpreter": {
    "hash": "ac21353c556c54046607e3bf2f7af3018ffd6d1b66c848c077ced3988dc8b879"
   }
  }
 },
 "nbformat": 4,
 "nbformat_minor": 2
}
